{
  "nbformat": 4,
  "nbformat_minor": 0,
  "metadata": {
    "colab": {
      "provenance": [],
      "toc_visible": true,
      "authorship_tag": "ABX9TyPrkGbRC7oXYxtQ8w3fA/Rt",
      "include_colab_link": true
    },
    "kernelspec": {
      "name": "python3",
      "display_name": "Python 3"
    },
    "language_info": {
      "name": "python"
    }
  },
  "cells": [
    {
      "cell_type": "markdown",
      "metadata": {
        "id": "view-in-github",
        "colab_type": "text"
      },
      "source": [
        "<a href=\"https://colab.research.google.com/github/jackson01723/AULA2_PYTHON/blob/main/aula_04.ipynb\" target=\"_parent\"><img src=\"https://colab.research.google.com/assets/colab-badge.svg\" alt=\"Open In Colab\"/></a>"
      ]
    },
    {
      "cell_type": "code",
      "execution_count": null,
      "metadata": {
        "colab": {
          "base_uri": "https://localhost:8080/"
        },
        "id": "pCMSfNUCNXD6",
        "outputId": "689060e1-0620-45c6-d9a4-a56bb3169b77"
      },
      "outputs": [
        {
          "output_type": "stream",
          "name": "stdout",
          "text": [
            "4\n"
          ]
        }
      ],
      "source": [
        "#  1 Crie um sistema que some 2  variáveis e mostre no Terminal\n",
        "# n1 = 2\n",
        "# n2 = 3\n",
        "# soma = n1+2\n",
        "# print(soma)"
      ]
    },
    {
      "cell_type": "code",
      "source": [
        "# 2 Crie um sistema que eleve 10 ao cubo\n",
        "# n1 = 10\n",
        "# result = n1**3\n",
        "# print(result)"
      ],
      "metadata": {
        "colab": {
          "base_uri": "https://localhost:8080/"
        },
        "id": "HeIaVy_NVIUP",
        "outputId": "a8a572bc-846f-4023-d299-04d89cc0f028"
      },
      "execution_count": null,
      "outputs": [
        {
          "output_type": "stream",
          "name": "stdout",
          "text": [
            "1000\n"
          ]
        }
      ]
    },
    {
      "cell_type": "code",
      "source": [
        "# 3 Crie um sistema que divida 150 por 3\n",
        "# valor = 150\n",
        "# divisor = 3\n",
        "# div = valor//divisor\n",
        "\n",
        "# print(div)"
      ],
      "metadata": {
        "colab": {
          "base_uri": "https://localhost:8080/"
        },
        "id": "RkdZHmo6V7Cw",
        "outputId": "227f0b2e-b597-4aa3-a208-00cb7ac7fd5e"
      },
      "execution_count": null,
      "outputs": [
        {
          "output_type": "stream",
          "name": "stdout",
          "text": [
            "50\n"
          ]
        }
      ]
    },
    {
      "cell_type": "code",
      "source": [
        "# n1 = float(input('>>'))\n",
        "# n2 = float(input('>>'))\n",
        "# soma  = n1 + n2\n",
        "# divisao = n1 / n2\n",
        "# multiplicacao = n1 * n2\n",
        "# subtracao = n1 - n2\n",
        "\n",
        "# # concatenar == juntar\n",
        "# #string format\n",
        "\n",
        "# print('RESULTDO DA SOMA = ', soma)\n",
        "# print('RESULTDO DA SUBTRACAO = ', subtracao)\n",
        "# print('RESULTDO DA MUlTIPLICACAO = ', multiplicacao)\n",
        "# print('RESULTDO DA DIVISAO = ', divisao)\n",
        "\n",
        "\n",
        "# and - retorna verdadeira quando as duas condições são verdadeira\n",
        "# or - verdadeiro qunado  qulquer uma daseclarações forem verdadeiras\n",
        "# not - vai ser verdadeiro quando a expressão for falso"
      ],
      "metadata": {
        "id": "raAjkQG8dzHv"
      },
      "execution_count": null,
      "outputs": []
    },
    {
      "cell_type": "code",
      "source": [
        "#concatenação == juntar** texto , variáveis, resultado\n",
        "# numero_1 = 10\n",
        "# numero_2 = 20\n",
        "# print(numero_1, numero_2)\n",
        "\n"
      ],
      "metadata": {
        "colab": {
          "base_uri": "https://localhost:8080/"
        },
        "id": "61bcsstQNpak",
        "outputId": "2e0e941d-c200-4a11-d479-ab5bcc0243d2"
      },
      "execution_count": null,
      "outputs": [
        {
          "output_type": "stream",
          "name": "stdout",
          "text": [
            "10 20\n"
          ]
        }
      ]
    },
    {
      "cell_type": "code",
      "source": [
        "#concatenar com virgula, no caso texto com +\n",
        "# nome = input('Digite seu nome >')\n",
        "# idade =  input('Digite sua idade >')\n",
        "#juntar concatenar\n",
        "# print('Seja bem vindo(a)', nome, 'sua idade é', idade,'anos.')\n",
        "# print(f'olá {nome},sua idade é {idade}')\n",
        "# print('tudo bem %s, sua idade é %s' %(nome,idade))\n",
        "# print('tudo bem {}, sua idade é {}'.format(nome,idade))\n",
        "\n"
      ],
      "metadata": {
        "id": "NDYfI3PKPMZg"
      },
      "execution_count": null,
      "outputs": []
    },
    {
      "cell_type": "code",
      "source": [
        " # ***1 - Crie um programa para efetuar a leitura de um número inteiro e apresentar o resultado do quadrado deste número.***\n",
        "\n",
        "# ***2 -\n",
        "# Crie duas variáveis para armazenar seu primeiro nome e sobrenome. Em seguida, concatene-as para formar seu nome completo e exiba o resultado.***\n",
        "\n",
        "# ***3 -\n",
        "# Peça ao usuário para digitar dois números inteiros e armazene-os em variáveis. Realize a concatenação desses números como strings e exiba o resultado.***\n",
        "\n",
        "# ***4 -\n",
        "# Crie uma variável para armazenar a palavra \"Python\". Em seguida, adicione um número inteiro ao final da palavra usando a concatenação e exiba o resultado.***\n",
        "\n",
        "# ***5 -\n",
        "# Declare uma variável contendo uma frase. Em seguida, peça ao usuário para digitar uma palavra e concatene essa palavra no final da frase. Exiba o resultado.***\n",
        "\n",
        "\n",
        "# numero_1 = int(input('>>'))\n",
        "# print('o numero digitado é', numero_1)\n",
        "# print(f'O numero digitado é {numero_1}')\n"
      ],
      "metadata": {
        "id": "kwjLab-uTFHM"
      },
      "execution_count": null,
      "outputs": []
    },
    {
      "cell_type": "code",
      "source": [
        "# nome_1 = input('Digite seu nome >')\n",
        "# sobrenome = input('>>')\n",
        "# print('ola tudo bem %s,  seu sobrenome  é %s' %(nome_1,sobrenome))"
      ],
      "metadata": {
        "id": "ftNKvDxcU6Ml"
      },
      "execution_count": null,
      "outputs": []
    },
    {
      "cell_type": "code",
      "source": [
        "# n1 = int(input('>>'))\n",
        "# n2 = int(input('>>'))\n",
        "# print('o numero digitado fora ', n1,n2)"
      ],
      "metadata": {
        "id": "gMkNVXHaYZQU"
      },
      "execution_count": null,
      "outputs": []
    },
    {
      "cell_type": "code",
      "source": [
        "# palavra = input('Digite a palavra >')\n",
        "# n2 =  int(input('>>'))\n",
        "# print('A palavra digitada é', palavra, n2)"
      ],
      "metadata": {
        "id": "_0a83DUkZQiD"
      },
      "execution_count": null,
      "outputs": []
    },
    {
      "cell_type": "code",
      "source": [
        "# frase = input('>>')\n",
        "# palavra = input('>>')\n",
        "# print('A frase digitada é {} {}'. format(frase,palavra))\n"
      ],
      "metadata": {
        "id": "ujiB7mjUcVZ1"
      },
      "execution_count": null,
      "outputs": []
    },
    {
      "cell_type": "code",
      "source": [
        "#Exercício 1: Escreva um programa que use a função range() para gerar os números pares de 2 a 20 e, em seguida, imprima cada número.\n",
        "\n",
        "for n in range(2,21,2):\n",
        "  print(n)"
      ],
      "metadata": {
        "colab": {
          "base_uri": "https://localhost:8080/"
        },
        "id": "R4FyJ1iD1S9X",
        "outputId": "83efd2cc-9e63-48e5-e0a7-0b6e827828b1"
      },
      "execution_count": null,
      "outputs": [
        {
          "output_type": "stream",
          "name": "stdout",
          "text": [
            "2\n",
            "4\n",
            "6\n",
            "8\n",
            "10\n",
            "12\n",
            "14\n",
            "16\n",
            "18\n",
            "20\n"
          ]
        }
      ]
    },
    {
      "cell_type": "code",
      "source": [
        "#Exercício 2: Escreva um programa que use a função range() para gerar os múltiplos de 5 em 5 a 50 e, em seguida, calcule e imprima a soma desses múltiplos.\n",
        "for n in range(5,51,5):\n",
        "  print(n)\n",
        "numeros = [5,10,15,20,25,30,35,40,45,50]\n",
        "soma = sum(numeros)\n",
        "print(soma)"
      ],
      "metadata": {
        "id": "4sJAEZIu3FL_",
        "colab": {
          "base_uri": "https://localhost:8080/"
        },
        "outputId": "03b67d8f-176e-4738-82c9-19b72cd00feb"
      },
      "execution_count": null,
      "outputs": [
        {
          "output_type": "stream",
          "name": "stdout",
          "text": [
            "5\n",
            "10\n",
            "15\n",
            "20\n",
            "25\n",
            "30\n",
            "35\n",
            "40\n",
            "45\n",
            "50\n",
            "275\n"
          ]
        }
      ]
    },
    {
      "cell_type": "code",
      "source": [
        "#Exercício 3: Escreva um programa que use a função type() para verificar o tipo de uma variável.\n",
        "n1 = 5\n",
        "n2 = \"6\"\n",
        "tipo = type(n1)\n",
        "tipo1 = type(n2)\n",
        "print(tipo)\n",
        "print(tipo1)"
      ],
      "metadata": {
        "colab": {
          "base_uri": "https://localhost:8080/"
        },
        "id": "JpGb854H5Xg3",
        "outputId": "85fb8184-4331-4ee1-b964-43249ab7bb64"
      },
      "execution_count": null,
      "outputs": [
        {
          "output_type": "stream",
          "name": "stdout",
          "text": [
            "<class 'int'>\n",
            "<class 'str'>\n"
          ]
        }
      ]
    },
    {
      "cell_type": "code",
      "source": [
        "#Exercício 4: Escreva um programa que use a função print() para imprimir uma mensagem de saudação personalizada, incluindo o nome do usuário.\n",
        "nome = input('Seja bem vindo')\n",
        "print = (nome, 'jackson')"
      ],
      "metadata": {
        "id": "KXNvBwMq6JNt"
      },
      "execution_count": null,
      "outputs": []
    },
    {
      "cell_type": "markdown",
      "source": [],
      "metadata": {
        "id": "oCT8Z43O8wt8"
      }
    },
    {
      "cell_type": "code",
      "source": [
        "for n in range(1,11,2):\n",
        "  print(n)\n",
        "numero = [1,3,5,7,9]\n",
        "soma = sum(numero)\n",
        "calc = soma / 5\n",
        "print(calc)"
      ],
      "metadata": {
        "id": "2E29ualr9rrV",
        "colab": {
          "base_uri": "https://localhost:8080/"
        },
        "outputId": "b7f7a317-eb5a-46dd-a513-f9492f69391d"
      },
      "execution_count": 1,
      "outputs": [
        {
          "output_type": "stream",
          "name": "stdout",
          "text": [
            "1\n",
            "3\n",
            "5\n",
            "7\n",
            "9\n",
            "5.0\n"
          ]
        }
      ]
    }
  ]
}