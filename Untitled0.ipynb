{
  "nbformat": 4,
  "nbformat_minor": 0,
  "metadata": {
    "colab": {
      "provenance": [],
      "toc_visible": true,
      "authorship_tag": "ABX9TyNZ3k3zZb+5FW8NERFiwwj0",
      "include_colab_link": true
    },
    "kernelspec": {
      "name": "python3",
      "display_name": "Python 3"
    },
    "language_info": {
      "name": "python"
    }
  },
  "cells": [
    {
      "cell_type": "markdown",
      "metadata": {
        "id": "view-in-github",
        "colab_type": "text"
      },
      "source": [
        "<a href=\"https://colab.research.google.com/github/jackson01723/AULA2_PYTHON/blob/main/Untitled0.ipynb\" target=\"_parent\"><img src=\"https://colab.research.google.com/assets/colab-badge.svg\" alt=\"Open In Colab\"/></a>"
      ]
    },
    {
      "cell_type": "code",
      "execution_count": 7,
      "metadata": {
        "colab": {
          "base_uri": "https://localhost:8080/"
        },
        "id": "Slyqiu7DRcVw",
        "outputId": "2ba76bee-2045-49c8-f16e-bc6f25d4ee21"
      },
      "outputs": [
        {
          "output_type": "stream",
          "name": "stdout",
          "text": [
            "minimo -  1\n",
            "maximo -  12\n",
            "lista organizado -  [1, 2, 3, 4, 5, 6, 7, 8, 9, 10, 11, 12]\n",
            "soma da minha lista -  78\n"
          ]
        }
      ],
      "source": [
        "# numero_inteiro = 10.0\n",
        "# print(type('numero_inteiro'))\n",
        "# real = bool(numero_inteiro)\n",
        "# print(type(numero_inteiro))\n",
        "\n",
        "# lista = [1,2,3,4,5,6,7,8,9,10,11,12]\n",
        "\n",
        "# minimo_da_minha_lista = min(lista)\n",
        "# maximo_da_minha_lista = max(lista)\n",
        "# organizar = sorted(lista)\n",
        "# soma = sum(lista)\n",
        "# print('minimo - ',minimo_da_minha_lista)\n",
        "# print('maximo - ',maximo_da_minha_lista)\n",
        "# print('lista organizado - ',organizar)\n",
        "# print('soma da minha lista - ',soma)\n",
        "\n"
      ]
    },
    {
      "cell_type": "code",
      "source": [
        "# 1 Imprima uma mensagem de boas-vindas na tela.\n",
        "print('Olá tudo bem ?')"
      ],
      "metadata": {
        "colab": {
          "base_uri": "https://localhost:8080/"
        },
        "id": "jsRlSA9r08M6",
        "outputId": "5b4ff1b2-66ff-4392-cfde-98cdcf378b52"
      },
      "execution_count": 8,
      "outputs": [
        {
          "output_type": "stream",
          "name": "stdout",
          "text": [
            "Olá tudo bem ?\n"
          ]
        }
      ]
    },
    {
      "cell_type": "code",
      "source": [
        "# 2 Declare uma variável booleana verdadeiro\n",
        "n = 10.0\n",
        "real = bool(n)\n",
        "print(real)\n",
        "print(type(real))\n"
      ],
      "metadata": {
        "colab": {
          "base_uri": "https://localhost:8080/"
        },
        "id": "XEmwPtEe1IWh",
        "outputId": "79a5a223-f550-4289-8147-54239df87912"
      },
      "execution_count": 14,
      "outputs": [
        {
          "output_type": "stream",
          "name": "stdout",
          "text": [
            "True\n",
            "<class 'bool'>\n"
          ]
        }
      ]
    },
    {
      "cell_type": "code",
      "source": [
        "# 3 Imprima o resultado da multiplicação de dois números decimais de sua escolha\n",
        "n1 = 10.6\n",
        "n2 = 15.6\n",
        "print(n1*n2)\n"
      ],
      "metadata": {
        "colab": {
          "base_uri": "https://localhost:8080/"
        },
        "id": "4glh5gvN2hAJ",
        "outputId": "8e777e69-8a89-4b64-cfd5-a1dac3a16ef7"
      },
      "execution_count": 15,
      "outputs": [
        {
          "output_type": "stream",
          "name": "stdout",
          "text": [
            "165.35999999999999\n"
          ]
        }
      ]
    },
    {
      "cell_type": "code",
      "source": [
        "# 4 Imprima o resultado da divisão de dois números inteiros\n",
        "# de sua escolha.\n",
        "n1 = 15\n",
        "n2 = 5\n",
        "divisao = n1 / n2\n",
        "print(divisao)"
      ],
      "metadata": {
        "colab": {
          "base_uri": "https://localhost:8080/"
        },
        "id": "ZL0LI4yt27hi",
        "outputId": "0fcb194a-623a-4421-a47a-120965d6f0b0"
      },
      "execution_count": 16,
      "outputs": [
        {
          "output_type": "stream",
          "name": "stdout",
          "text": [
            "3.0\n"
          ]
        }
      ]
    },
    {
      "cell_type": "code",
      "source": [
        "# 5  Imprima o resultado da subtração de dois números inteiros de sua escolha\n",
        "n1 = 1200\n",
        "n2 = 3000\n",
        "subtracao = n1 - n2\n",
        "print(subtracao)"
      ],
      "metadata": {
        "colab": {
          "base_uri": "https://localhost:8080/"
        },
        "id": "0N-YXY_r3bAC",
        "outputId": "05feb787-f2af-45ce-ebfa-8a538e7d71e7"
      },
      "execution_count": 17,
      "outputs": [
        {
          "output_type": "stream",
          "name": "stdout",
          "text": [
            "-1800\n"
          ]
        }
      ]
    },
    {
      "cell_type": "code",
      "source": [
        "# 8 Declare uma variável numero e atribua um número inteiro. Em seguida,\n",
        "# imprima o dobro desse número\n",
        "numero = 20\n",
        "print(numero*2)\n"
      ],
      "metadata": {
        "colab": {
          "base_uri": "https://localhost:8080/"
        },
        "id": "mLZl4G0W37gg",
        "outputId": "1cd7608b-c353-416a-f4ff-eb9e657c5816"
      },
      "execution_count": 19,
      "outputs": [
        {
          "output_type": "stream",
          "name": "stdout",
          "text": [
            "40\n"
          ]
        }
      ]
    },
    {
      "cell_type": "code",
      "source": [
        "# 9 Crie uma calculadora de soma com as ferramentas que vc já\n",
        "#conhece(Use apenas input, print e variavel)\n",
        "\n",
        "n1 = float(input('Digite um numero:'))\n",
        "n2 = float(input('Digite um numero ao qual vc deseja multiplicar:'))\n",
        "print(n1+n2)\n",
        "print(n1-n2)\n",
        "print(n1*n2)\n",
        "print(n1/n2)"
      ],
      "metadata": {
        "colab": {
          "base_uri": "https://localhost:8080/"
        },
        "id": "SH-m4a845IJS",
        "outputId": "c8c017b9-7c43-4df6-8ef5-079e39c7f71c"
      },
      "execution_count": 22,
      "outputs": [
        {
          "output_type": "stream",
          "name": "stdout",
          "text": [
            "Digite um numero:15.5\n",
            "Digite um numero ao qual vc deseja multiplicar:5.5\n",
            "21.0\n",
            "10.0\n",
            "85.25\n",
            "2.8181818181818183\n"
          ]
        }
      ]
    },
    {
      "cell_type": "code",
      "source": [
        "#10 Crie um sistema de cadastro com as estruturas que vc já conhece(Use apenas input, print e variavel)\n",
        "nome = input('Digite seu nome:')\n",
        "idade = int(input('Digite sua idade :'))\n",
        "profissao = input('digite sua profissão :')\n",
        "print(nome)\n",
        "print(idade)\n",
        "print(profissao)\n",
        "print('Usuario cadastrado com sucesso!')"
      ],
      "metadata": {
        "colab": {
          "base_uri": "https://localhost:8080/"
        },
        "id": "2693YrRX6akg",
        "outputId": "6c48fa28-17ef-4174-cb0e-d2e29e9f3fe1"
      },
      "execution_count": 34,
      "outputs": [
        {
          "output_type": "stream",
          "name": "stdout",
          "text": [
            "Digite seu nome:Jackson\n",
            "Digite sua idade :27\n",
            "digite sua profissão :Auxiliar\n",
            "Jackson\n",
            "27\n",
            "Auxiliar\n",
            "Usuario cadastrado com sucesso!\n"
          ]
        }
      ]
    }
  ]
}